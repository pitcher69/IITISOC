{
  "nbformat": 4,
  "nbformat_minor": 0,
  "metadata": {
    "colab": {
      "provenance": []
    },
    "kernelspec": {
      "name": "python3",
      "display_name": "Python 3"
    },
    "language_info": {
      "name": "python"
    }
  },
  "cells": [
    {
      "cell_type": "markdown",
      "source": [
        "# MODULE 2A: EXTRACT FEATURES FROM RENDERED IMAGES (2D FEATURE VECTOR)"
      ],
      "metadata": {
        "id": "12ovXS3cf_Yd"
      }
    },
    {
      "cell_type": "markdown",
      "source": [
        "Using DINOv2 we extract features of rendered images"
      ],
      "metadata": {
        "id": "A_6w-t3kpzK0"
      }
    },
    {
      "cell_type": "code",
      "source": [
        "import glob\n",
        "import os\n",
        "from PIL import Image\n",
        "from transformers import AutoImageProcessor, AutoModel\n",
        "import torch\n",
        "\n",
        "# Load processor and model\n",
        "print(\"Loading model and processor...\")\n",
        "processor = AutoImageProcessor.from_pretrained(\"facebook/dinov2-base\")\n",
        "model = AutoModel.from_pretrained(\"facebook/dinov2-base\").eval()\n",
        "print(\"Loaded model and processor.\")\n",
        "\n",
        "# Load all render image files\n",
        "render_files = sorted(glob.glob(\"output/renders/*.png\"))\n",
        "print(f\"Found {len(render_files)} images\")\n",
        "\n",
        "all_features = []\n",
        "\n",
        "for i, file in enumerate(render_files):\n",
        "    if not os.path.isfile(file):\n",
        "        print(f\"⚠️ Skipping non-file: {file}\")\n",
        "        continue\n",
        "\n",
        "    try:\n",
        "        img = Image.open(file).convert(\"RGB\")\n",
        "    except Exception as e:\n",
        "        print(f\"Could not open image {file}: {e}\")\n",
        "        continue\n",
        "\n",
        "    inputs = processor(images=img, return_tensors=\"pt\")\n",
        "\n",
        "    with torch.no_grad():\n",
        "        output = model(**inputs)\n",
        "        feats = output.last_hidden_state  # [1, tokens, dim]\n",
        "\n",
        "    if feats is not None and feats.numel() > 0:\n",
        "        all_features.append(feats[0])  # shape: [tokens, dim]\n",
        "    else:\n",
        "        print(f\"Empty features for image {i}: {file}\")\n",
        "\n",
        "# Final stacking\n",
        "if not all_features:\n",
        "    raise ValueError(\"No features extracted. Please check your images or rendering.\")\n",
        "else:\n",
        "    all_features_tensor = torch.stack(all_features, dim=0)\n",
        "    print(f\"Final feature tensor shape: {all_features_tensor.shape}\")\n",
        "    for i in range(len(all_features_tensor)):\n",
        "      print(f\"Feature tensor {i}: {all_features_tensor[i][0][:5]}\")\n"
      ],
      "metadata": {
        "id": "3z7Hg1uYp5Sf"
      },
      "execution_count": null,
      "outputs": []
    }
  ]
}