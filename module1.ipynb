{
  "nbformat": 4,
  "nbformat_minor": 0,
  "metadata": {
    "colab": {
      "provenance": []
    },
    "kernelspec": {
      "name": "python3",
      "display_name": "Python 3"
    },
    "language_info": {
      "name": "python"
    }
  },
  "cells": [
    {
      "cell_type": "markdown",
      "source": [
        "# MODULE 1 : RENDER MULTIVIEW IMAGES FROM CAD MODEL"
      ],
      "metadata": {
        "id": "xGNFy_ZbcNLO"
      }
    },
    {
      "cell_type": "markdown",
      "source": [
        "Step 1. Import the CNOS repo\n",
        "```\n",
        "!git clone https://github.com/nv-nguyen/cnos.git\n",
        "```"
      ],
      "metadata": {
        "id": "e85MNcVSj2aO"
      }
    },
    {
      "cell_type": "code",
      "source": [
        "!git clone https://github.com/nv-nguyen/cnos.git"
      ],
      "metadata": {
        "id": "Ozpm_jqUk5vN"
      },
      "execution_count": null,
      "outputs": []
    },
    {
      "cell_type": "markdown",
      "source": [
        "Step 2. Install Dependancies\n",
        "```\n",
        "!pip install pyrender trimesh Pillow tqdm numpy matplotlib\n",
        "```"
      ],
      "metadata": {
        "id": "gixCyhbzk3y7"
      }
    },
    {
      "cell_type": "code",
      "execution_count": null,
      "metadata": {
        "id": "YRUYGk34jy3S"
      },
      "outputs": [],
      "source": [
        "!pip install pyrender trimesh Pillow tqdm numpy matplotlib"
      ]
    },
    {
      "cell_type": "markdown",
      "source": [
        "Step 3. Changes in CNOS script\n",
        "*   /content/cnos/src/utils/trimesh_utils.py ; `get_obj_diameter` function, argument passed is mesh itself not path, so no need to load mesh(change argument passed from 'mesh_path' to 'mesh' and remove the `load_mesh` statement)\n",
        "*   /content/cnos/src/poses/pyrender.py ; rename to something else :\n",
        "```\n",
        "!mv /content/cnos/src/poses/pyrender.py /content/cnos/src/poses/generate_views.py\n",
        "```\n",
        "\n",
        "\n"
      ],
      "metadata": {
        "id": "L7iOJwHXlXLX"
      }
    },
    {
      "cell_type": "code",
      "source": [
        "!mv /content/cnos/src/poses/pyrender.py /content/cnos/src/poses/generate_views.py"
      ],
      "metadata": {
        "id": "BOmK4RsHmUVD"
      },
      "execution_count": null,
      "outputs": []
    },
    {
      "cell_type": "markdown",
      "source": [
        "Step 4. Changes in `generate_views.py` script\n",
        "*   At the beginning of /content/cnos/src/poses/generate_views.py, type this\n",
        "```\n",
        "import sys\n",
        "import os\n",
        "sys.path.append(os.path.abspath(os.path.join(os.path.dirname(__file__), \"../..\")))\n"
      ],
      "metadata": {
        "id": "n5Nai_Owm1lU"
      }
    },
    {
      "cell_type": "markdown",
      "source": [
        "Step 5. Before running we make a directory to store our model and our rendered images\n",
        "\n",
        "```\n",
        "!mkdir -p output/renders\n",
        "```\n"
      ],
      "metadata": {
        "id": "R5-RenAkoOWr"
      }
    },
    {
      "cell_type": "code",
      "source": [
        "!mkdir -p output/renders\n"
      ],
      "metadata": {
        "id": "bQz79rVon1m7"
      },
      "execution_count": null,
      "outputs": []
    },
    {
      "cell_type": "markdown",
      "source": [
        "UPLOAD YOUR CAD(.PLY) MODEL UNDER THE OUTPUT DIRECTORY (name as `model.ply` for convenience with rest of the code)\n",
        "\n",
        "or run the script below for an existing model"
      ],
      "metadata": {
        "id": "Av32UTduq-T8"
      }
    },
    {
      "cell_type": "code",
      "source": [
        "!wget -O output/model.ply \"https://github.com/pitcher69/IITISOC/raw/refs/heads/main/obj_000000.ply\"\n"
      ],
      "metadata": {
        "id": "w0zFOYdAt62W"
      },
      "execution_count": null,
      "outputs": []
    },
    {
      "cell_type": "markdown",
      "source": [
        "VISUALIZE MODEL"
      ],
      "metadata": {
        "id": "M61DhIuHwwp-"
      }
    },
    {
      "cell_type": "code",
      "source": [
        "import trimesh\n",
        "\n",
        "mesh = trimesh.load(\"output/model.ply\")\n",
        "print(\"Center (centroid):\", mesh.centroid)\n",
        "mesh.show()"
      ],
      "metadata": {
        "id": "5v4cLC1Gwzc1"
      },
      "execution_count": null,
      "outputs": []
    },
    {
      "cell_type": "markdown",
      "source": [
        "Centre the model to origin if it isnt"
      ],
      "metadata": {
        "id": "gEvpK1ICaRfS"
      }
    },
    {
      "cell_type": "code",
      "source": [
        "import trimesh\n",
        "import numpy as np\n",
        "\n",
        "def normalize_and_overwrite_model(model_path):\n",
        "    # Load mesh\n",
        "    mesh = trimesh.load_mesh(model_path)\n",
        "    print(f\"Original center: {mesh.bounding_box.centroid}\")\n",
        "\n",
        "    # Center at origin\n",
        "    centroid = mesh.bounding_box.centroid\n",
        "    mesh.apply_translation(-centroid)\n",
        "\n",
        "    # Uniform scale to unit cube\n",
        "    max_extent = np.max(mesh.bounding_box.extents)\n",
        "    if max_extent == 0:\n",
        "        raise ValueError(\"Mesh has zero size.\")\n",
        "    mesh.apply_scale(1.0 / max_extent)\n",
        "\n",
        "    # Optional: set visible color if missing\n",
        "    if mesh.visual.kind != 'vertex':\n",
        "        mesh.visual.vertex_colors = np.tile([180, 180, 180, 255], (len(mesh.vertices), 1))\n",
        "\n",
        "    # Save over the original file\n",
        "    mesh.export(model_path)\n",
        "    print(f\"New center: {mesh.bounding_box.centroid}\")\n",
        "    print(f\"Normalized and saved: {model_path}\")\n",
        "\n",
        "# Example usage\n",
        "normalize_and_overwrite_model(\"/content/output/model.ply\")\n"
      ],
      "metadata": {
        "id": "5PqKQ4claWFa"
      },
      "execution_count": null,
      "outputs": []
    },
    {
      "cell_type": "markdown",
      "source": [
        "Step 6. Run the rendering script\n",
        "\n",
        "\n",
        "```\n",
        "!python path_to_rendering_script(generate_views.py)\n",
        "path_to_model\n",
        "path_to_predefined_object_pose(cnos->src->poses->predefined_poses->pick_any_OBJ_pose [level0->42,level1->162,level2->642]\n",
        "path_to_renders_folder_to_store\n",
        "0(gpu)\n",
        "False\n",
        "0.8(light_intensity)\n",
        "1.7(radius)\n",
        "\n",
        "```\n",
        "\n"
      ],
      "metadata": {
        "id": "ABby01vZpIIN"
      }
    },
    {
      "cell_type": "code",
      "source": [
        "!python /content/cnos/src/poses/generate_views.py /content/output/model.ply /content/cnos/src/poses/predefined_poses/obj_poses_level0.npy /content/output/renders 0 False 0.8 1.7"
      ],
      "metadata": {
        "id": "lc0fRiyapHTi"
      },
      "execution_count": null,
      "outputs": []
    },
    {
      "cell_type": "markdown",
      "source": [
        "Generate GIF to visualize the rendered images"
      ],
      "metadata": {
        "id": "1UjFsr67vlKe"
      }
    },
    {
      "cell_type": "code",
      "source": [
        "from PIL import Image, ImageSequence\n",
        "import glob\n",
        "\n",
        "image_folder = \"/content/output/renders\"\n",
        "image_files = sorted(glob.glob(f\"{image_folder}/*.png\"))\n",
        "\n",
        "# Load and convert each image to RGB (removes transparency)\n",
        "frames = []\n",
        "for img_path in image_files:\n",
        "    img = Image.open(img_path).convert(\"RGBA\")\n",
        "    # Fill transparent background with black\n",
        "    bg = Image.new(\"RGB\", img.size, (0, 0, 0))\n",
        "    bg.paste(img, mask=img.split()[3])  # Use alpha channel as mask\n",
        "    frames.append(bg)\n",
        "\n",
        "# Save as animated GIF\n",
        "if frames:\n",
        "    output_path = \"/content/output/rendered_views.gif\"\n",
        "    frames[0].save(output_path, format=\"GIF\", save_all=True,\n",
        "                   append_images=frames[1:], duration=150, loop=0)\n",
        "    print(f\"GIF saved at: {output_path}\")\n",
        "else:\n",
        "    print(\"No images found to create GIF.\")\n"
      ],
      "metadata": {
        "id": "ZABvU1kWuUVD"
      },
      "execution_count": null,
      "outputs": []
    }
  ]
}