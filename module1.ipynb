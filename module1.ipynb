# MODULE 1 : RENDER MULTIVIEW IMAGES FROM CAD MODEL

Step 1. Import the CNOS repo
```
!git clone https://github.com/nv-nguyen/cnos.git
```

!git clone https://github.com/nv-nguyen/cnos.git

Step 2. Install Dependancies
```
!pip install pyrender trimesh Pillow tqdm numpy matplotlib
```

!pip install pyrender trimesh Pillow tqdm numpy matplotlib

Step 3. Changes in CNOS script
*   /content/cnos/src/utils/trimesh_utils.py ; `get_obj_diameter` function, argument passed is mesh itself not path, so no need to load mesh(change argument passed from 'mesh_path' to 'mesh' and remove the `load_mesh` statement)
*   /content/cnos/src/poses/pyrender.py ; rename to something else :
```
!mv /content/cnos/src/poses/pyrender.py /content/cnos/src/poses/generate_views.py
```




!mv /content/cnos/src/poses/pyrender.py /content/cnos/src/poses/generate_views.py

Step 4. Changes in `generate_views.py` script
*   At the beginning of /content/cnos/src/poses/generate_views.py, type this
```
import sys
import os
sys.path.append(os.path.abspath(os.path.join(os.path.dirname(__file__), "../..")))


Step 5. Before running we make a directory to store our model and our rendered images

```
!mkdir -p output/renders
```


!mkdir -p output/renders


UPLOAD YOUR CAD(.PLY) MODEL UNDER THE OUTPUT DIRECTORY (name as `model.ply` for convenience with rest of the code)

or run the script below for an existing model

!wget -O output/model.ply "https://github.com/pitcher69/IITISOC/raw/refs/heads/main/obj_000000.ply"


VISUALIZE MODEL

import trimesh

mesh = trimesh.load("output/model.ply")
print("Center (centroid):", mesh.centroid)
mesh.show()

Centre the model to origin if it isnt

import trimesh
import numpy as np

def normalize_and_overwrite_model(model_path):
    # Load mesh
    mesh = trimesh.load_mesh(model_path)
    print(f"Original center: {mesh.bounding_box.centroid}")

    # Center at origin
    centroid = mesh.bounding_box.centroid
    mesh.apply_translation(-centroid)

    # Uniform scale to unit cube
    max_extent = np.max(mesh.bounding_box.extents)
    if max_extent == 0:
        raise ValueError("Mesh has zero size.")
    mesh.apply_scale(1.0 / max_extent)

    # Optional: set visible color if missing
    if mesh.visual.kind != 'vertex':
        mesh.visual.vertex_colors = np.tile([180, 180, 180, 255], (len(mesh.vertices), 1))

    # Save over the original file
    mesh.export(model_path)
    print(f"New center: {mesh.bounding_box.centroid}")
    print(f"Normalized and saved: {model_path}")

# Example usage
normalize_and_overwrite_model("/content/output/model.ply")


Step 6. Run the rendering script


```
!python path_to_rendering_script(generate_views.py)
path_to_model
path_to_predefined_object_pose(cnos->src->poses->predefined_poses->pick_any_OBJ_pose [level0->42,level1->162,level2->642]
path_to_renders_folder_to_store
0(gpu)
False
0.8(light_intensity)
1.7(radius)

```



!python /content/cnos/src/poses/generate_views.py /content/output/model.ply /content/cnos/src/poses/predefined_poses/obj_poses_level0.npy /content/output/renders 0 False 0.8 1.7

Generate GIF to visualize the rendered images

from PIL import Image, ImageSequence
import glob

image_folder = "/content/output/renders"
image_files = sorted(glob.glob(f"{image_folder}/*.png"))

# Load and convert each image to RGB (removes transparency)
frames = []
for img_path in image_files:
    img = Image.open(img_path).convert("RGBA")
    # Fill transparent background with black
    bg = Image.new("RGB", img.size, (0, 0, 0))
    bg.paste(img, mask=img.split()[3])  # Use alpha channel as mask
    frames.append(bg)

# Save as animated GIF
if frames:
    output_path = "/content/output/rendered_views.gif"
    frames[0].save(output_path, format="GIF", save_all=True,
                   append_images=frames[1:], duration=150, loop=0)
    print(f"GIF saved at: {output_path}")
else:
    print("No images found to create GIF.")
