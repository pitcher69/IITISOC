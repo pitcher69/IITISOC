{
  "module": "MODULE 1: RENDER MULTIVIEW IMAGES FROM CAD MODEL",
  "steps": [
    {
      "step": "Import the CNOS repo",
      "commands": [
        "!git clone https://github.com/nv-nguyen/cnos.git"
      ]
    },
    {
      "step": "Install Dependencies",
      "commands": [
        "!pip install pyrender trimesh Pillow tqdm numpy matplotlib"
      ]
    },
    {
      "step": "Make Changes in CNOS Script",
      "modifications": [
        {
          "file": "/content/cnos/src/utils/trimesh_utils.py",
          "description": "In `get_obj_diameter`, pass mesh directly instead of path. Remove mesh loading and rename argument from 'mesh_path' to 'mesh'."
        },
        {
          "file": "/content/cnos/src/poses/pyrender.py",
          "description": "Rename this file to avoid conflict with pyrender module.",
          "command": "!mv /content/cnos/src/poses/pyrender.py /content/cnos/src/poses/generate_views.py"
        }
      ]
    },
    {
      "step": "Edit generate_views.py",
      "insert": {
        "at_start_of_file": "/content/cnos/src/poses/generate_views.py",
        "code": [
          "import sys",
          "import os",
          "sys.path.append(os.path.abspath(os.path.join(os.path.dirname(__file__), \"../..\")))"
        ]
      }
    },
    {
      "step": "Create Output Directory",
      "commands": [
        "!mkdir -p output/renders"
      ]
    },
    {
      "step": "Upload or Download CAD Model",
      "options": [
        "Upload your .ply model to `output/model.ply`",
        {
          "download_command": "!wget -O output/model.ply \"https://github.com/pitcher69/IITISOC/raw/refs/heads/main/obj_000000.ply\""
        }
      ]
    },
    {
      "step": "Visualize CAD Model",
      "code": [
        "import trimesh",
        "mesh = trimesh.load(\"output/model.ply\")",
        "print(\"Center (centroid):\", mesh.centroid)",
        "mesh.show()"
      ]
    },
    {
      "step": "Normalize and Center the CAD Model",
      "function": "normalize_and_overwrite_model",
      "code": [
        "import trimesh",
        "import numpy as np",
        "def normalize_and_overwrite_model(model_path):",
        "    mesh = trimesh.load_mesh(model_path)",
        "    print(f\"Original center: {mesh.bounding_box.centroid}\")",
        "    centroid = mesh.bounding_box.centroid",
        "    mesh.apply_translation(-centroid)",
        "    max_extent = np.max(mesh.bounding_box.extents)",
        "    if max_extent == 0:",
        "        raise ValueError(\"Mesh has zero size.\")",
        "    mesh.apply_scale(1.0 / max_extent)",
        "    if mesh.visual.kind != 'vertex':",
        "        mesh.visual.vertex_colors = np.tile([180, 180, 180, 255], (len(mesh.vertices), 1))",
        "    mesh.export(model_path)",
        "    print(f\"New center: {mesh.bounding_box.centroid}\")",
        "    print(f\"Normalized and saved: {model_path}\")",
        "# Example usage",
        "normalize_and_overwrite_model(\"/content/output/model.ply\")"
      ]
    },
    {
      "step": "Run the Rendering Script",
      "command": "!python /content/cnos/src/poses/generate_views.py /content/output/model.ply /content/cnos/src/poses/predefined_poses/obj_poses_level0.npy /content/output/renders 0 False 0.8 1.7"
    },
    {
      "step": "Generate GIF to Visualize Rendered Images",
      "code": [
        "from PIL import Image, ImageSequence",
        "import glob",
        "image_folder = \"/content/output/renders\"",
        "image_files = sorted(glob.glob(f\"{image_folder}/*.png\"))",
        "frames = []",
        "for img_path in image_files:",
        "    img = Image.open(img_path).convert(\"RGBA\")",
        "    bg = Image.new(\"RGB\", img.size, (0, 0, 0))",
        "    bg.paste(img, mask=img.split()[3])",
        "    frames.append(bg)",
        "if frames:",
        "    output_path = \"/content/output/rendered_views.gif\"",
        "    frames[0].save(output_path, format=\"GIF\", save_all=True, append_images=frames[1:], duration=150, loop=0)",
        "    print(f\"GIF saved at: {output_path}\")",
        "else:",
        "    print(\"No images found to create GIF.\")"
      ]
    }
  ]
}
